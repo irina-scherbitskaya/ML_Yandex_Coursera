{
 "cells": [
  {
   "cell_type": "code",
   "execution_count": 1,
   "metadata": {},
   "outputs": [],
   "source": [
    "import numpy as np\n",
    "import pandas as pd\n",
    "from sklearn.feature_extraction.text import TfidfVectorizer\n",
    "from sklearn.feature_extraction import DictVectorizer\n",
    "from sklearn.linear_model import Ridge\n",
    "from scipy.sparse import hstack\n",
    "\n",
    "train = pd.read_csv('Data/salary-train.csv')\n",
    "test = pd.read_csv('Data/salary-test-mini.csv')\n",
    "dict_vec =  DictVectorizer()\n",
    "\n",
    "train.fillna('nan', inplace = True)\n",
    "\n",
    "train_34 = dict_vec.fit_transform(train[['LocationNormalized', 'ContractTime']].to_dict('records'))\n",
    "test_34 = dict_vec.transform(test[['LocationNormalized', 'ContractTime']].to_dict('records'))\n",
    "\n",
    "train['FullDescription'] = train['FullDescription'].map(lambda x: x.lower())\n",
    "train['FullDescription'] = train['FullDescription'].replace('[^a-zA-Z0-9]',' ', regex = True)\n",
    "test['FullDescription'] = test['FullDescription'].map(lambda x: x.lower())\n",
    "test['FullDescription'] = test['FullDescription'].replace('[^a-zA-Z0-9]',' ', regex = True)\n",
    "\n",
    "vec = TfidfVectorizer(min_df = 5)\n",
    "\n",
    "train_2 = vec.fit_transform(train['FullDescription'])\n",
    "test_2 = vec.transform(test['FullDescription'])"
   ]
  },
  {
   "cell_type": "code",
   "execution_count": 2,
   "metadata": {},
   "outputs": [
    {
     "name": "stdout",
     "output_type": "stream",
     "text": [
      "Answer: 56555.62 37188.32\n"
     ]
    }
   ],
   "source": [
    "x_train_end = hstack([train_2, train_34])\n",
    "x_test_end = hstack([test_2, test_34])\n",
    "\n",
    "ridge = Ridge(alpha = 1, random_state = 241)\n",
    "ridge.fit(x_train_end, train['SalaryNormalized'])\n",
    "y_pred = ridge.predict(x_test_end)\n",
    "print('Answer:', \"%.2f\" % y_pred[0],\"%.2f\" % y_pred[1])"
   ]
  },
  {
   "cell_type": "code",
   "execution_count": null,
   "metadata": {},
   "outputs": [],
   "source": []
  },
  {
   "cell_type": "code",
   "execution_count": null,
   "metadata": {},
   "outputs": [],
   "source": []
  }
 ],
 "metadata": {
  "kernelspec": {
   "display_name": "Python 3",
   "language": "python",
   "name": "python3"
  },
  "language_info": {
   "codemirror_mode": {
    "name": "ipython",
    "version": 3
   },
   "file_extension": ".py",
   "mimetype": "text/x-python",
   "name": "python",
   "nbconvert_exporter": "python",
   "pygments_lexer": "ipython3",
   "version": "3.6.5"
  }
 },
 "nbformat": 4,
 "nbformat_minor": 2
}
