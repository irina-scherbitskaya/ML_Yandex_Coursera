{
 "cells": [
  {
   "cell_type": "code",
   "execution_count": 1,
   "metadata": {},
   "outputs": [
    {
     "name": "stdout",
     "output_type": "stream",
     "text": [
      "[ 4  5 10]\n"
     ]
    }
   ],
   "source": [
    "import numpy as np\n",
    "import pandas as pd\n",
    "from sklearn.svm import SVC\n",
    "\n",
    "data = pd.read_csv('Data/svm-data.csv', names = ['y', 'x1', 'x2'])\n",
    "svm = SVC(C = 10**5, kernel = 'linear', random_state = 241)\n",
    "data_y = data.iloc[:, 0]\n",
    "data_x = data.iloc[:, 1:]\n",
    "\n",
    "svm.fit(data_x, data_y)\n",
    "\n",
    "print(svm.support_ + 1)"
   ]
  },
  {
   "cell_type": "code",
   "execution_count": 2,
   "metadata": {},
   "outputs": [],
   "source": [
    "from sklearn import datasets\n",
    "from sklearn.feature_extraction.text import TfidfVectorizer\n",
    "from sklearn.model_selection import KFold , GridSearchCV \n",
    "\n",
    "newsgroup =  datasets.fetch_20newsgroups(subset = 'all',  categories=['alt.atheism', 'sci.space'])"
   ]
  },
  {
   "cell_type": "code",
   "execution_count": 6,
   "metadata": {},
   "outputs": [],
   "source": [
    "x = newsgroup.data\n",
    "y = newsgroup.target\n",
    "\n",
    "kf = KFold(n_splits = 5, shuffle = True, random_state = 241)\n",
    "vec = TfidfVectorizer()\n",
    "matrix_x = vec.fit_transform(x)"
   ]
  },
  {
   "cell_type": "code",
   "execution_count": 7,
   "metadata": {},
   "outputs": [
    {
     "name": "stdout",
     "output_type": "stream",
     "text": [
      "0.5526315789473685\n",
      "{'C': 1e-05}\n",
      "0.5526315789473685\n",
      "{'C': 0.0001}\n",
      "0.5526315789473685\n",
      "{'C': 0.001}\n",
      "0.5526315789473685\n",
      "{'C': 0.01}\n",
      "0.9501679731243001\n",
      "{'C': 0.1}\n",
      "0.9932810750279956\n",
      "{'C': 1}\n",
      "0.9932810750279956\n",
      "{'C': 10}\n",
      "0.9932810750279956\n",
      "{'C': 100}\n",
      "0.9932810750279956\n",
      "{'C': 1000}\n",
      "0.9932810750279956\n",
      "{'C': 10000}\n",
      "0.9932810750279956\n",
      "{'C': 100000}\n"
     ]
    },
    {
     "name": "stderr",
     "output_type": "stream",
     "text": [
      "/Library/Frameworks/Python.framework/Versions/3.6/lib/python3.6/site-packages/sklearn/model_selection/_search.py:761: DeprecationWarning: The grid_scores_ attribute was deprecated in version 0.18 in favor of the more elaborate cv_results_ attribute. The grid_scores_ attribute will not be available from 0.20\n",
      "  DeprecationWarning)\n"
     ]
    }
   ],
   "source": [
    "C = { 'C' : [10**i for i in range(-5, 6)]}\n",
    "svm = SVC(kernel = 'linear', random_state = 241)\n",
    "gs = GridSearchCV(svm, C, scoring = 'accuracy' , cv = kf)\n",
    "gs.fit(matrix_x, y)\n",
    "\n",
    "for score in gs.grid_scores_:\n",
    "    print(score.mean_validation_score)\n",
    "    print(score.parameters)"
   ]
  },
  {
   "cell_type": "code",
   "execution_count": 58,
   "metadata": {},
   "outputs": [
    {
     "name": "stdout",
     "output_type": "stream",
     "text": [
      "atheism atheists bible god keith moon religion sci sky space\n"
     ]
    }
   ],
   "source": [
    "svm = SVC( C = 1 , kernel = 'linear', random_state = 241)\n",
    "svm.fit(matrix_x, y)\n",
    "coef = pd.DataFrame(svm.coef_.data, svm.coef_.indices)\n",
    "\n",
    "d = vec.get_feature_names()\n",
    "answer = coef[0].map(lambda x: abs(x)).sort_values().tail(10).index.map(lambda word: d[word]).sort_values()\n",
    "print(' '.join(answer))"
   ]
  },
  {
   "cell_type": "code",
   "execution_count": null,
   "metadata": {},
   "outputs": [],
   "source": []
  }
 ],
 "metadata": {
  "kernelspec": {
   "display_name": "Python 3",
   "language": "python",
   "name": "python3"
  },
  "language_info": {
   "codemirror_mode": {
    "name": "ipython",
    "version": 3
   },
   "file_extension": ".py",
   "mimetype": "text/x-python",
   "name": "python",
   "nbconvert_exporter": "python",
   "pygments_lexer": "ipython3",
   "version": "3.6.5"
  }
 },
 "nbformat": 4,
 "nbformat_minor": 2
}
