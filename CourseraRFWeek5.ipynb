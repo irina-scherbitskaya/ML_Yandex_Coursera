{
 "cells": [
  {
   "cell_type": "code",
   "execution_count": null,
   "metadata": {},
   "outputs": [],
   "source": [
    "import numpy as np\n",
    "from sklearn.ensemble import RandomForestRegressor\n",
    "import pandas as pd\n",
    "from sklearn.metrics import r2_score\n",
    "from sklearn.cross_validation import KFold\n",
    "from sklearn.model_selection import GridSearchCV, cross_val_score\n",
    "import warnings\n",
    "warnings.filterwarnings('ignore')\n",
    "\n",
    "data =  pd.read_csv('Data/abalone.csv')\n",
    "\n",
    "data['Sex'] = data['Sex'].map({'F': -1, 'I' : 0, 'M' : 1})\n",
    "y = data.iloc[:,-1]\n",
    "X = data.iloc[:, :-1]\n",
    "\n",
    "kf = KFold(n = y.size, n_folds = 5, random_state = 1, shuffle = True)\n",
    "rf = RandomForestRegressor(random_state = 1)\n",
    "\n",
    "parameters = {'n_estimators': range(1, 51)}\n",
    "\n",
    "gcv = GridSearchCV(estimator = rf, param_grid = parameters, \n",
    "                   scoring = 'r2', cv = kf)\n",
    "gcv.fit(X, y)\n",
    "\n",
    "for score in gcv.grid_scores_:\n",
    "    if score.mean_validation_score > 0.52 :\n",
    "        print(score.parameters)\n",
    "        break"
   ]
  },
  {
   "cell_type": "code",
   "execution_count": null,
   "metadata": {},
   "outputs": [],
   "source": [
    "\n"
   ]
  }
 ],
 "metadata": {
  "kernelspec": {
   "display_name": "Python 3",
   "language": "python",
   "name": "python3"
  },
  "language_info": {
   "codemirror_mode": {
    "name": "ipython",
    "version": 3
   },
   "file_extension": ".py",
   "mimetype": "text/x-python",
   "name": "python",
   "nbconvert_exporter": "python",
   "pygments_lexer": "ipython3",
   "version": "3.6.5"
  }
 },
 "nbformat": 4,
 "nbformat_minor": 2
}
