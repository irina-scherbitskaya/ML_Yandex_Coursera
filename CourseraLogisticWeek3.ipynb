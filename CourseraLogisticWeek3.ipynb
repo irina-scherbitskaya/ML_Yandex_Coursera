{
 "cells": [
  {
   "cell_type": "code",
   "execution_count": 95,
   "metadata": {},
   "outputs": [
    {
     "name": "stdout",
     "output_type": "stream",
     "text": [
      "p = 0.9267619047619048 it = 766\n",
      "p = 0.9362857142857142 it = 16\n",
      "k = 0.1 p = 0.9267619047619048 it = 766\n",
      "k = 0.6 p = 0.9267619047619048 it = 132\n",
      "k = 1.1 p = 0.9267619047619048 it = 69\n",
      "k = 1.6 p = 0.9267619047619048 it = 60\n",
      "k = 2.1 p = 0.7723809523809524 it = 10000\n",
      "k = 2.6 p = 0.27580952380952384 it = 10000\n",
      "k = 3.1 p = 0.9358095238095236 it = 10000\n",
      "k = 3.6 p = 0.937047619047619 it = 10000\n",
      "k = 4.1 p = 0.08961904761904763 it = 10000\n",
      "k = 4.6 p = 0.9357142857142856 it = 10000\n",
      "k = 5.1 p = 0.9357142857142856 it = 10000\n"
     ]
    }
   ],
   "source": [
    "import pandas as pd\n",
    "import numpy as np\n",
    "import warnings\n",
    "from sklearn.metrics import roc_auc_score\n",
    "warnings.filterwarnings('ignore')\n",
    "\n",
    "def counting_weight(i, w_vec, k, c):\n",
    "    l = len(mult_xy[0])\n",
    "    temp = 1/(1+np.exp(mult_xy[0]*w_vec[0] + mult_xy[1]*w_vec[1]))\n",
    "    return w_vec[i] + k/l*(mult_xy[i]*temp).sum()-k*c*w_vec[i] \n",
    "    \n",
    "def weight(k, c):\n",
    "    w = [0, 0]\n",
    "    for it in range(10000):\n",
    "        w_old = np.array(w)\n",
    "        w = [counting_weight(0, w_old, k, c), counting_weight(1, w_old , k, c)]\n",
    "        if ((abs(w - w_old))**(1/2)).sum() <= 1e-5:\n",
    "            global iteration\n",
    "            iteration = it\n",
    "            break\n",
    "    return (w[0], w[1])\n",
    "\n",
    "def probability(k, c):\n",
    "    global iteration\n",
    "    iteration = 10000\n",
    "    w1, w2 = weight(k, c)\n",
    "    return 1/(1 + np.exp(-w1*data['x1'].values-w2*data['x2'].values))\n",
    "\n",
    "data = pd.read_csv('Data/data-logistic.csv', names = ['y', 'x1', 'x2'])\n",
    "x = data[['x1', 'x2']]\n",
    "y = data['y'].values\n",
    "iteration =  10000\n",
    "mult_xy = [data['x1'].values*data['y'].values, data['x2'].values*data['y'].values]\n",
    "\n",
    "print('p =', roc_auc_score(y, probability(0.1, 0)), 'it =', iteration,)\n",
    "print('p =', roc_auc_score(y, probability(0.1, 10)),'it =', iteration,)\n",
    "\n",
    "for k in range(1, 52, 5):\n",
    "    print('k =', k/ 10, 'p =', roc_auc_score(y, probability(k/10, 0)), 'it =', iteration,)"
   ]
  },
  {
   "cell_type": "code",
   "execution_count": null,
   "metadata": {},
   "outputs": [],
   "source": []
  }
 ],
 "metadata": {
  "kernelspec": {
   "display_name": "Python 3",
   "language": "python",
   "name": "python3"
  },
  "language_info": {
   "codemirror_mode": {
    "name": "ipython",
    "version": 3
   },
   "file_extension": ".py",
   "mimetype": "text/x-python",
   "name": "python",
   "nbconvert_exporter": "python",
   "pygments_lexer": "ipython3",
   "version": "3.6.5"
  }
 },
 "nbformat": 4,
 "nbformat_minor": 2
}
