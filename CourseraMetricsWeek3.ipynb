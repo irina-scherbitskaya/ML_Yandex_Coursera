{
 "cells": [
  {
   "cell_type": "code",
   "execution_count": 1,
   "metadata": {},
   "outputs": [
    {
     "name": "stdout",
     "output_type": "stream",
     "text": [
      "43 34 59 64\n"
     ]
    }
   ],
   "source": [
    "import pandas as pd\n",
    "import numpy as np\n",
    "import warnings\n",
    "import sklearn.metrics as m\n",
    "warnings.filterwarnings('ignore')\n",
    "\n",
    "classification = pd.read_csv('Data/classification.csv')\n",
    "TP = len(classification[(classification['true'] == 1) & (classification['pred'] == 1)])\n",
    "FP = len(classification[(classification['true'] == 0) & (classification['pred'] == 1)])\n",
    "FN = len(classification[(classification['true'] == 1) & (classification['pred'] == 0)])\n",
    "TN = len(classification[(classification['true'] == 0) & (classification['pred'] == 0)])\n",
    "print(TP, FP, FN, TN)"
   ]
  },
  {
   "cell_type": "code",
   "execution_count": 2,
   "metadata": {},
   "outputs": [
    {
     "name": "stdout",
     "output_type": "stream",
     "text": [
      "0.54 0.56 0.42 0.48\n"
     ]
    }
   ],
   "source": [
    "print( \"%.2f\" % m.accuracy_score(classification['true'], classification['pred']),\n",
    "       \"%.2f\" % m.precision_score(classification['true'], classification['pred']),\n",
    "       \"%.2f\" % m.recall_score(classification['true'], classification['pred']),\n",
    "       \"%.2f\" % m.f1_score(classification['true'], classification['pred']))"
   ]
  },
  {
   "cell_type": "code",
   "execution_count": 3,
   "metadata": {},
   "outputs": [
    {
     "name": "stdout",
     "output_type": "stream",
     "text": [
      "0.72 0.71 0.64 0.69\n"
     ]
    }
   ],
   "source": [
    "scores = pd.read_csv('Data/scores.csv')\n",
    "print(\"%.2f\" % m.roc_auc_score(scores['true'], scores['score_logreg']),\n",
    "      \"%.2f\" % m.roc_auc_score(scores['true'], scores['score_svm']),\n",
    "      \"%.2f\" % m.roc_auc_score(scores['true'], scores['score_knn']),\n",
    "      \"%.2f\" % m.roc_auc_score(scores['true'], scores['score_tree']))"
   ]
  },
  {
   "cell_type": "code",
   "execution_count": 4,
   "metadata": {},
   "outputs": [
    {
     "name": "stdout",
     "output_type": "stream",
     "text": [
      "0.6302521008403361\n",
      "0.6517857142857143\n",
      "0.6228070175438597\n",
      "0.6065573770491803\n"
     ]
    }
   ],
   "source": [
    "logreg = m.precision_recall_curve(scores['true'], scores['score_logreg'])\n",
    "tree = m.precision_recall_curve(scores['true'], scores['score_tree'])\n",
    "svm = m.precision_recall_curve(scores['true'], scores['score_svm'])\n",
    "knn = m.precision_recall_curve(scores['true'], scores['score_knn'])\n",
    "print(logreg[0][logreg[1] > 0.7].max())\n",
    "print(tree[0][tree[1] > 0.7].max())\n",
    "print(svm[0][svm[1] > 0.7].max())\n",
    "print(knn[0][knn[1] > 0.7].max())"
   ]
  },
  {
   "cell_type": "code",
   "execution_count": null,
   "metadata": {},
   "outputs": [],
   "source": []
  }
 ],
 "metadata": {
  "kernelspec": {
   "display_name": "Python 3",
   "language": "python",
   "name": "python3"
  },
  "language_info": {
   "codemirror_mode": {
    "name": "ipython",
    "version": 3
   },
   "file_extension": ".py",
   "mimetype": "text/x-python",
   "name": "python",
   "nbconvert_exporter": "python",
   "pygments_lexer": "ipython3",
   "version": "3.6.5"
  }
 },
 "nbformat": 4,
 "nbformat_minor": 2
}
