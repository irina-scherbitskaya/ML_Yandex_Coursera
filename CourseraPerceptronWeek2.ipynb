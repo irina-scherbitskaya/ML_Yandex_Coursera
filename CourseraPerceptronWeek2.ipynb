{
 "cells": [
  {
   "cell_type": "code",
   "execution_count": 22,
   "metadata": {},
   "outputs": [
    {
     "name": "stdout",
     "output_type": "stream",
     "text": [
      "0.655\n",
      "0.845\n",
      "0.18999999999999995\n"
     ]
    },
    {
     "name": "stderr",
     "output_type": "stream",
     "text": [
      "/Library/Frameworks/Python.framework/Versions/3.6/lib/python3.6/site-packages/sklearn/linear_model/stochastic_gradient.py:128: FutureWarning: max_iter and tol parameters have been added in <class 'sklearn.linear_model.perceptron.Perceptron'> in 0.19. If both are left unset, they default to max_iter=5 and tol=None. If tol is not None, max_iter defaults to max_iter=1000. From 0.21, default max_iter will be 1000, and default tol will be 1e-3.\n",
      "  \"and default tol will be 1e-3.\" % type(self), FutureWarning)\n"
     ]
    }
   ],
   "source": [
    "import numpy as np\n",
    "import pandas as pd\n",
    "from sklearn.linear_model import Perceptron\n",
    "from sklearn.metrics import accuracy_score\n",
    "from sklearn.preprocessing import StandardScaler\n",
    "data_test = pd.read_csv('Data/perceptron-test.csv', names = ['y', 'x1', 'x2'])\n",
    "data_train = pd.read_csv('Data/perceptron-train.csv',names = ['y', 'x1', 'x2'])\n",
    "train_x = data_train.iloc[:,1:]\n",
    "train_y = data_train.iloc[:,0]\n",
    "test_x = data_test.iloc[:,1:]\n",
    "test_y = data_test.iloc[:,0]\n",
    "pers1 = Perceptron(random_state = 241)\n",
    "pers1.fit(train_x, train_y)\n",
    "predict_y = pers1.predict(test_x)\n",
    "acc1 = accuracy_score(test_y, predict_y)\n",
    "print(acc1)\n",
    "\n",
    "scaler = StandardScaler()\n",
    "train_x = scaler.fit_transform(train_x)\n",
    "test_x = scaler.transform(test_x)\n",
    "pers2 = Perceptron(random_state = 241)\n",
    "pers2.fit(train_x, train_y)\n",
    "predict_y2 = pers2.predict(test_x)\n",
    "acc2 = accuracy_score(test_y, predict_y2)\n",
    "print(acc2)\n",
    "\n",
    "print(acc2 - acc1)"
   ]
  },
  {
   "cell_type": "code",
   "execution_count": null,
   "metadata": {},
   "outputs": [],
   "source": []
  }
 ],
 "metadata": {
  "kernelspec": {
   "display_name": "Python 3",
   "language": "python",
   "name": "python3"
  },
  "language_info": {
   "codemirror_mode": {
    "name": "ipython",
    "version": 3
   },
   "file_extension": ".py",
   "mimetype": "text/x-python",
   "name": "python",
   "nbconvert_exporter": "python",
   "pygments_lexer": "ipython3",
   "version": "3.6.5"
  }
 },
 "nbformat": 4,
 "nbformat_minor": 2
}
